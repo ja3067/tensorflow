{
 "cells": [
  {
   "cell_type": "code",
   "execution_count": 6,
   "metadata": {},
   "outputs": [],
   "source": [
    "from __future__ import print_function\n",
    "import numpy as np\n",
    "import tensorflow as tf\n",
    "from keras.models import Sequential\n",
    "from keras.layers import Dense, Activation"
   ]
  },
  {
   "cell_type": "code",
   "execution_count": 8,
   "metadata": {
    "collapsed": true
   },
   "outputs": [],
   "source": [
    "import os\n",
    "os.chdir('/Users/JAustin/Desktop/MNIST')\n",
    "train = np.genfromtxt('train.csv', delimiter=\",\", dtype=int)[1:,:]\n",
    "test = np.genfromtxt('test.csv', delimiter=\",\", dtype=int)[1:,:]"
   ]
  },
  {
   "cell_type": "code",
   "execution_count": 32,
   "metadata": {},
   "outputs": [
    {
     "name": "stdout",
     "output_type": "stream",
     "text": [
      "(42000, 784) (42000, 10)\n"
     ]
    }
   ],
   "source": [
    "train_labels = train[:,0].reshape(42000,1)\n",
    "train_labels = keras.utils.to_categorical(train_labels, num_classes=10)\n",
    "train_data = np.delete(train,0,1)\n",
    "pixel_depth = 255.0\n",
    "train_eq = (train_data - pixel_depth / 2) / pixel_depth\n",
    "test_eq = (test - pixel_depth / 2) / pixel_depth\n",
    "train_dataset = train_eq.astype(np.float32)\n",
    "test_dataset = test_eq.astype(np.float32)\n",
    "print(np.shape(train_dataset), np.shape(train_labels))"
   ]
  },
  {
   "cell_type": "code",
   "execution_count": 53,
   "metadata": {},
   "outputs": [],
   "source": [
    "model = Sequential()\n",
    "model.add(Dense(units=128, input_dim=784))\n",
    "model.add(Activation('relu'))\n",
    "model.add(Dense(units=10))\n",
    "model.add(Activation('softmax'))\n",
    "model.compile(loss=keras.losses.categorical_crossentropy,\n",
    "              optimizer=keras.optimizers.SGD(lr=0.01, momentum=0.9, nesterov=True))"
   ]
  },
  {
   "cell_type": "code",
   "execution_count": 54,
   "metadata": {
    "scrolled": false
   },
   "outputs": [
    {
     "name": "stdout",
     "output_type": "stream",
     "text": [
      "Epoch 1/20\n",
      "42000/42000 [==============================] - 2s - loss: 0.5540     \n",
      "Epoch 2/20\n",
      "42000/42000 [==============================] - 1s - loss: 0.3043     \n",
      "Epoch 3/20\n",
      "42000/42000 [==============================] - 1s - loss: 0.2581     \n",
      "Epoch 4/20\n",
      "42000/42000 [==============================] - 1s - loss: 0.2237     \n",
      "Epoch 5/20\n",
      "42000/42000 [==============================] - 1s - loss: 0.1965     \n",
      "Epoch 6/20\n",
      "42000/42000 [==============================] - 1s - loss: 0.1760     \n",
      "Epoch 7/20\n",
      "42000/42000 [==============================] - 1s - loss: 0.1584     \n",
      "Epoch 8/20\n",
      "42000/42000 [==============================] - 1s - loss: 0.1448     \n",
      "Epoch 9/20\n",
      "42000/42000 [==============================] - 1s - loss: 0.1329     \n",
      "Epoch 10/20\n",
      "42000/42000 [==============================] - 1s - loss: 0.1231     \n",
      "Epoch 11/20\n",
      "42000/42000 [==============================] - 1s - loss: 0.1135     \n",
      "Epoch 12/20\n",
      "42000/42000 [==============================] - 1s - loss: 0.1068     \n",
      "Epoch 13/20\n",
      "42000/42000 [==============================] - 1s - loss: 0.0998     \n",
      "Epoch 14/20\n",
      "42000/42000 [==============================] - 1s - loss: 0.0938     \n",
      "Epoch 15/20\n",
      "42000/42000 [==============================] - 1s - loss: 0.0886     \n",
      "Epoch 16/20\n",
      "42000/42000 [==============================] - 1s - loss: 0.0838     \n",
      "Epoch 17/20\n",
      "42000/42000 [==============================] - 1s - loss: 0.0792     \n",
      "Epoch 18/20\n",
      "42000/42000 [==============================] - 1s - loss: 0.0755     \n",
      "Epoch 19/20\n",
      "42000/42000 [==============================] - 1s - loss: 0.0716     \n",
      "Epoch 20/20\n",
      "42000/42000 [==============================] - 1s - loss: 0.0686     \n"
     ]
    },
    {
     "data": {
      "text/plain": [
       "<keras.callbacks.History at 0x11fc82828>"
      ]
     },
     "execution_count": 54,
     "metadata": {},
     "output_type": "execute_result"
    }
   ],
   "source": [
    "model.fit(train_dataset, train_labels, epochs=20, batch_size=128)"
   ]
  },
  {
   "cell_type": "code",
   "execution_count": 57,
   "metadata": {},
   "outputs": [
    {
     "name": "stdout",
     "output_type": "stream",
     "text": [
      "40576/42000 [===========================>..] - ETA: 0s"
     ]
    }
   ],
   "source": [
    "#loss_and_metrics = model.evaluate(train_dataset, train_labels, batch_size=128)\n",
    "score = model.evaluate(train_dataset, train_labels, batch_size=128)\n",
    "\n",
    "test_prediction = model.predict(test_dataset)\n",
    "\n",
    "solution_arr = np.zeros((len(test_dataset)+1,2))\n",
    "solution_arr[1:,0] = np.linspace(1,len(test_dataset),len(test_dataset))\n",
    "solution_arr[1:,1] = np.argmax(test_prediction, axis=1)\n",
    "np.savetxt(\"keras_results.csv\", solution_arr, fmt='%i', delimiter=\",\")"
   ]
  },
  {
   "cell_type": "code",
   "execution_count": null,
   "metadata": {},
   "outputs": [
    {
     "name": "stdout",
     "output_type": "stream",
     "text": [
      "Downloading data from https://github.com/fchollet/deep-learning-models/releases/download/v0.5/inception_v3_weights_tf_dim_ordering_tf_kernels.h5\n"
     ]
    }
   ],
   "source": [
    "keras.applications.inception_v3.InceptionV3(include_top=True, weights='imagenet', input_tensor=None, input_shape=None)"
   ]
  },
  {
   "cell_type": "code",
   "execution_count": null,
   "metadata": {
    "collapsed": true
   },
   "outputs": [],
   "source": []
  }
 ],
 "metadata": {
  "kernelspec": {
   "display_name": "Python 3",
   "language": "python",
   "name": "python3"
  },
  "language_info": {
   "codemirror_mode": {
    "name": "ipython",
    "version": 3
   },
   "file_extension": ".py",
   "mimetype": "text/x-python",
   "name": "python",
   "nbconvert_exporter": "python",
   "pygments_lexer": "ipython3",
   "version": "3.5.3"
  }
 },
 "nbformat": 4,
 "nbformat_minor": 2
}
