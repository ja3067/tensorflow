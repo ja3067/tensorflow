{
 "cells": [
  {
   "cell_type": "code",
   "execution_count": 1,
   "metadata": {},
   "outputs": [
    {
     "name": "stderr",
     "output_type": "stream",
     "text": [
      "Using TensorFlow backend.\n"
     ]
    }
   ],
   "source": [
    "from __future__ import print_function\n",
    "import numpy as np\n",
    "import tensorflow as tf\n",
    "from keras.models import Sequential\n",
    "from keras.layers import Dense, Activation\n",
    "import keras\n",
    "import h5py\n",
    "import scipy"
   ]
  },
  {
   "cell_type": "code",
   "execution_count": 2,
   "metadata": {
    "collapsed": true
   },
   "outputs": [],
   "source": [
    "import os\n",
    "os.chdir('/Users/JAustin/Desktop/MNIST')\n",
    "train = np.genfromtxt('train.csv', delimiter=\",\", dtype=int)[1:,:]\n",
    "#test = np.readim('~/Desktop/test.csv', delimiter=\",\", dtype=int)[1:,:]"
   ]
  },
  {
   "cell_type": "code",
   "execution_count": 28,
   "metadata": {},
   "outputs": [],
   "source": [
    "test_temp=scipy.ndimage.imread('/Users/JAustin/Desktop/UTH4670.jpg','L')\n",
    "test=scipy.misc.imresize(test_temp,(28,28))"
   ]
  },
  {
   "cell_type": "code",
   "execution_count": 38,
   "metadata": {},
   "outputs": [
    {
     "name": "stdout",
     "output_type": "stream",
     "text": [
      "(42000, 784) (42000, 10)\n"
     ]
    }
   ],
   "source": [
    "train_labels = train[:,0].reshape(42000,1)\n",
    "train_labels = keras.utils.to_categorical(train_labels, num_classes=10)\n",
    "train_data = np.delete(train,0,1)\n",
    "pixel_depth = 255.0\n",
    "train_eq = (train_data - pixel_depth / 2) / pixel_depth\n",
    "#test_eq = (test - pixel_depth / 2) / pixel_depth\n",
    "train_dataset = train_eq.astype(np.float32)\n",
    "test_dataset = test.astype(np.float32)\n",
    "print(np.shape(train_dataset), np.shape(train_labels))"
   ]
  },
  {
   "cell_type": "code",
   "execution_count": 16,
   "metadata": {
    "collapsed": true
   },
   "outputs": [],
   "source": [
    "model = Sequential()\n",
    "model.add(Dense(units=128, input_dim=784))\n",
    "model.add(Activation('relu'))\n",
    "model.add(Dense(units=10))\n",
    "model.add(Activation('softmax'))\n",
    "model.compile(loss=keras.losses.categorical_crossentropy,\n",
    "              optimizer=keras.optimizers.SGD(lr=0.01, momentum=0.9, nesterov=True))"
   ]
  },
  {
   "cell_type": "code",
   "execution_count": 18,
   "metadata": {
    "scrolled": false
   },
   "outputs": [
    {
     "name": "stdout",
     "output_type": "stream",
     "text": [
      "Epoch 1/5\n",
      "42000/42000 [==============================] - 1s - loss: 0.2194     \n",
      "Epoch 2/5\n",
      "42000/42000 [==============================] - 1s - loss: 0.1949     \n",
      "Epoch 3/5\n",
      "42000/42000 [==============================] - 1s - loss: 0.1735     \n",
      "Epoch 4/5\n",
      "42000/42000 [==============================] - 1s - loss: 0.1562     \n",
      "Epoch 5/5\n",
      "42000/42000 [==============================] - 1s - loss: 0.1427     \n"
     ]
    },
    {
     "data": {
      "text/plain": [
       "<keras.callbacks.History at 0x10e1df898>"
      ]
     },
     "execution_count": 18,
     "metadata": {},
     "output_type": "execute_result"
    }
   ],
   "source": [
    "model.fit(train_dataset, train_labels, epochs=5, batch_size=128)"
   ]
  },
  {
   "cell_type": "code",
   "execution_count": 41,
   "metadata": {
    "scrolled": true
   },
   "outputs": [
    {
     "name": "stdout",
     "output_type": "stream",
     "text": [
      "5\n"
     ]
    }
   ],
   "source": [
    "#loss_and_metrics = model.evaluate(train_dataset, train_labels, batch_size=128)\n",
    "#score = model.evaluate(train_dataset, train_labels, batch_size=128)\n",
    "import matplotlib.pyplot as plt\n",
    "\n",
    "test_prediction = np.argmax(model.predict(test_dataset.reshape(1, 784)))\n",
    "plt.imshow(test_dataset)\n",
    "print(test_prediction)\n",
    "#solution_arr = np.zeros((len(test_dataset)+1,2))\n",
    "#solution_arr[1:,0] = np.linspace(1,len(test_dataset),len(test_dataset))\n",
    "#solution_arr[1:,1] = np.argmax(test_prediction, axis=1)\n",
    "#np.savetxt(\"keras_results.csv\", solution_arr, fmt='%i', delimiter=\",\")"
   ]
  },
  {
   "cell_type": "markdown",
   "metadata": {},
   "source": [
    "Keras inception model"
   ]
  },
  {
   "cell_type": "code",
   "execution_count": null,
   "metadata": {
    "collapsed": true
   },
   "outputs": [],
   "source": [
    "keras.applications.inception_v3.InceptionV3(include_top=False, weights='imagenet', input_tensor=None, input_shape=None)\n"
   ]
  }
 ],
 "metadata": {
  "anaconda-cloud": {},
  "kernelspec": {
   "display_name": "Python 3",
   "language": "python",
   "name": "python3"
  },
  "language_info": {
   "codemirror_mode": {
    "name": "ipython",
    "version": 3
   },
   "file_extension": ".py",
   "mimetype": "text/x-python",
   "name": "python",
   "nbconvert_exporter": "python",
   "pygments_lexer": "ipython3",
   "version": "3.5.3"
  }
 },
 "nbformat": 4,
 "nbformat_minor": 2
}
